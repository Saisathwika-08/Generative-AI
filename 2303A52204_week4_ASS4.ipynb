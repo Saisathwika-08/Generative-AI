{
  "nbformat": 4,
  "nbformat_minor": 0,
  "metadata": {
    "colab": {
      "provenance": [],
      "authorship_tag": "ABX9TyPzptbCVnK4JY8V2d6MMUCb",
      "include_colab_link": true
    },
    "kernelspec": {
      "name": "python3",
      "display_name": "Python 3"
    },
    "language_info": {
      "name": "python"
    }
  },
  "cells": [
    {
      "cell_type": "markdown",
      "metadata": {
        "id": "view-in-github",
        "colab_type": "text"
      },
      "source": [
        "<a href=\"https://colab.research.google.com/github/Saisathwika-08/Generative-AI/blob/main/2303A52204_week4_ASS4.ipynb\" target=\"_parent\"><img src=\"https://colab.research.google.com/assets/colab-badge.svg\" alt=\"Open In Colab\"/></a>"
      ]
    },
    {
      "cell_type": "markdown",
      "source": [
        "1) esign a simple ANN architecture with one input and one output layer (no hidden\n",
        "layer). Assume a linear activation function in the output layer.\n",
        "• Write Python code for a backpropagation algorithm with gradient descent optimization to\n",
        "update weights and bias parameters of the ANN model with training data shown in Table\n",
        "1.\n",
        "• Calculate the mean square error with training and testing data shown in Table 2.\n",
        "• Write Python code that reads the input data [x1, x2, and x3] from the user. Predict the\n",
        "output with deployed ANN model\n",
        "Tabela 1: Training Data\n",
        "x1   x2  x3   y\n",
        "0.1 0.2 0.3 0.14\n",
        "0.2 0.3 0.4 0.20\n",
        "0.3 0.4 0.5 0.26\n",
        "0.5 0.6 0.7 0.38\n",
        "0.1 0.3 0.5 0.22\n",
        "0.2 0.4 0.6 0.28\n",
        "0.3 0.5 0.7 0.34\n",
        "0.4 0.6 0.8 0.40\n",
        "0.5 0.7 0.1 0.22\n",
        "Tabela 2: Test Data\n",
        "x1   x2  x3     y\n",
        "0.6 0.7 0.8   0.44\n",
        "0.7 0.8 0.9   0.50\n"
      ],
      "metadata": {
        "id": "zJ-5v46EBMcb"
      }
    },
    {
      "cell_type": "code",
      "execution_count": 2,
      "metadata": {
        "colab": {
          "base_uri": "https://localhost:8080/"
        },
        "id": "Kjs6l18qBLag",
        "outputId": "b9da6e24-e724-4993-9685-04446ba57bc5"
      },
      "outputs": [
        {
          "output_type": "stream",
          "name": "stdout",
          "text": [
            "Epoch 0, MSE: 1.555423\n",
            "Epoch 100, MSE: 0.006608\n",
            "Epoch 200, MSE: 0.003382\n",
            "Epoch 300, MSE: 0.002950\n",
            "Epoch 400, MSE: 0.002577\n",
            "Epoch 500, MSE: 0.002253\n",
            "Epoch 600, MSE: 0.001972\n",
            "Epoch 700, MSE: 0.001726\n",
            "Epoch 800, MSE: 0.001513\n",
            "Epoch 900, MSE: 0.001327\n",
            "Final Training MSE: 0.001165\n",
            "Final Testing MSE: 0.003659\n",
            "Enter values for x1, x2, x3: 0.1 0.2 0.3\n",
            "Predicted Output: 0.0807\n"
          ]
        }
      ],
      "source": [
        "import numpy as np\n",
        "X_train = np.array([\n",
        "    [0.1, 0.2, 0.3],\n",
        "    [0.2, 0.3, 0.4],\n",
        "    [0.3, 0.4, 0.5],\n",
        "    [0.5, 0.6, 0.7],\n",
        "    [0.1, 0.3, 0.5],\n",
        "    [0.2, 0.4, 0.6],\n",
        "    [0.3, 0.5, 0.7],\n",
        "    [0.4, 0.6, 0.8],\n",
        "    [0.5, 0.7, 0.1]\n",
        "])\n",
        "y_train = np.array([0.14, 0.20, 0.26, 0.38, 0.22, 0.28, 0.34, 0.40, 0.22])\n",
        "X_test = np.array([\n",
        "    [0.6, 0.7, 0.8],\n",
        "    [0.7, 0.8, 0.9]\n",
        "])\n",
        "y_test = np.array([0.44, 0.50])\n",
        "np.random.seed(42)\n",
        "w = np.random.rand(3)\n",
        "b = np.random.rand()\n",
        "learning_rate = 0.01\n",
        "epochs = 1000\n",
        "for epoch in range(epochs):\n",
        "    y_pred = np.dot(X_train, w) + b\n",
        "    error = y_pred - y_train\n",
        "    dw = (2 / len(y_train)) * np.dot(X_train.T, error)\n",
        "    db = (2 / len(y_train)) * np.sum(error)\n",
        "    w -= learning_rate * dw\n",
        "    b -= learning_rate * db\n",
        "    if epoch % 100 == 0:\n",
        "        mse = np.mean(error**2)\n",
        "        print(f\"Epoch {epoch}, MSE: {mse:.6f}\")\n",
        "def mean_squared_error(X, y, w, b):\n",
        "    y_pred = np.dot(X, w) + b\n",
        "    return np.mean((y_pred - y) ** 2)\n",
        "mse_train = mean_squared_error(X_train, y_train, w, b)\n",
        "mse_test = mean_squared_error(X_test, y_test, w, b)\n",
        "print(f\"Final Training MSE: {mse_train:.6f}\")\n",
        "print(f\"Final Testing MSE: {mse_test:.6f}\")\n",
        "def predict(x1, x2, x3):\n",
        "    x_input = np.array([x1, x2, x3])\n",
        "    return np.dot(x_input, w) + b\n",
        "x1, x2, x3 = map(float, input(\"Enter values for x1, x2, x3: \").split())\n",
        "predicted_output = predict(x1, x2, x3)\n",
        "print(f\"Predicted Output: {predicted_output:.4f}\")\n",
        "\n",
        "\n",
        "\n"
      ]
    },
    {
      "cell_type": "markdown",
      "source": [
        "2) Design a simple ANN architecture with one input and one output layer (no hidden\n",
        "layer). Assume a sigmoid activation function shown in the equation 1 in the output layer.\n",
        "f (x) = 1\n",
        "1 + e−x (1)\n",
        "• Write Python code for a backpropagation algorithm with gradient descent optimization to\n",
        "update weights and bias parameters of the ANN model with training data shown in Table\n",
        "3.\n",
        "Tabela 3: Training Data\n",
        "x1   x2    x3    y\n",
        "0.1 0.2 0.3 0.5349\n",
        "0.2 0.3 0.4 0.5498\n",
        "0.3 0.4 0.5 0.5646\n",
        "0.5 0.6 0.7 0.5939\n",
        "0.1 0.3 0.5 0.5548\n",
        "0.2 0.4 0.6 0.5695\n",
        "0.3 0.5 0.7 0.5842\n",
        "0.4 0.6 0.8 0.5987\n",
        "0.5 0.7 0.1 0.5548\n",
        "Tabela 4: Test Data\n",
        "x1   x2   x3   y\n",
        "0.6 0.7 0.8 0.6083\n",
        "0.7 0.8 0.9 0.6225\n",
        "• Calculate the mean square error with training and testing data shown in Table\n",
        "• Write Python code that reads the input data [x1, x2, and x3] from the user.\n",
        "\n"
      ],
      "metadata": {
        "id": "48tN-B8zEkqe"
      }
    },
    {
      "cell_type": "code",
      "source": [
        "import numpy as np\n",
        "\n",
        "def sigmoid(x):\n",
        "    return 1 / (1 + np.exp(-x))\n",
        "X_train = np.array([\n",
        "    [0.1, 0.2, 0.3],\n",
        "    [0.2, 0.3, 0.4],\n",
        "    [0.3, 0.4, 0.5],\n",
        "    [0.5, 0.6, 0.7],\n",
        "    [0.1, 0.3, 0.5],\n",
        "    [0.2, 0.4, 0.6],\n",
        "    [0.3, 0.5, 0.7],\n",
        "    [0.4, 0.6, 0.8],\n",
        "    [0.5, 0.7, 0.1]\n",
        "])\n",
        "y_train = np.array([0.5349, 0.5498, 0.5646, 0.5939, 0.5548, 0.5695, 0.5842, 0.5987, 0.5548])\n",
        "X_test = np.array([\n",
        "    [0.6, 0.7, 0.8],\n",
        "    [0.7, 0.8, 0.9]\n",
        "])\n",
        "y_test = np.array([0.6083, 0.6225])\n",
        "np.random.seed(42)\n",
        "w = np.random.rand(3)\n",
        "b = np.random.rand()\n",
        "learning_rate = 0.01\n",
        "epochs = 1000\n",
        "for epoch in range(epochs):\n",
        "    y_pred = sigmoid(np.dot(X_train, w) + b)\n",
        "    error = y_pred - y_train\n",
        "    dw = (2 / len(y_train)) * np.dot(X_train.T, error * y_pred * (1 - y_pred))\n",
        "    db = (2 / len(y_train)) * np.sum(error * y_pred * (1 - y_pred))\n",
        "    w -= learning_rate * dw\n",
        "    b -= learning_rate * db\n",
        "\n",
        "    if epoch % 100 == 0:\n",
        "        mse = np.mean(error**2)\n",
        "        print(f\"Epoch {epoch}, MSE: {mse:.6f}\")\n",
        "def mean_squared_error(X, y, w, b):\n",
        "    y_pred = sigmoid(np.dot(X, w) + b)\n",
        "    return np.mean((y_pred - y) ** 2)\n",
        "mse_train = mean_squared_error(X_train, y_train, w, b)\n",
        "mse_test = mean_squared_error(X_test, y_test, w, b)\n",
        "print(f\"Final Training MSE: {mse_train:.6f}\")\n",
        "print(f\"Final Testing MSE: {mse_test:.6f}\")\n",
        "def predict(x1, x2, x3):\n",
        "    x_input = np.array([x1, x2, x3])\n",
        "    return sigmoid(np.dot(x_input, w) + b)\n",
        "x1, x2, x3 = map(float, input(\"Enter values for x1, x2, x3: \").split())\n",
        "predicted_output = predict(x1, x2, x3)\n",
        "print(f\"Predicted Output: {predicted_output:.4f}\")\n"
      ],
      "metadata": {
        "colab": {
          "base_uri": "https://localhost:8080/"
        },
        "id": "JBgkKY6qGiTh",
        "outputId": "1a4aab38-12d5-4514-bb9b-40035a4ca3a6"
      },
      "execution_count": 3,
      "outputs": [
        {
          "output_type": "stream",
          "name": "stdout",
          "text": [
            "Epoch 0, MSE: 0.061706\n",
            "Epoch 100, MSE: 0.053658\n",
            "Epoch 200, MSE: 0.045748\n",
            "Epoch 300, MSE: 0.038198\n",
            "Epoch 400, MSE: 0.031221\n",
            "Epoch 500, MSE: 0.024989\n",
            "Epoch 600, MSE: 0.019608\n",
            "Epoch 700, MSE: 0.015111\n",
            "Epoch 800, MSE: 0.011466\n",
            "Epoch 900, MSE: 0.008589\n",
            "Final Training MSE: 0.006372\n",
            "Final Testing MSE: 0.014591\n",
            "Enter values for x1, x2, x3: 0.1  0.2 0.3\n",
            "Predicted Output: 0.5746\n"
          ]
        }
      ]
    }
  ]
}