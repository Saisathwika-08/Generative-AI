{
  "nbformat": 4,
  "nbformat_minor": 0,
  "metadata": {
    "colab": {
      "provenance": [],
      "authorship_tag": "ABX9TyPJg2624zL1Aq5OJB7mvagV",
      "include_colab_link": true
    },
    "kernelspec": {
      "name": "python3",
      "display_name": "Python 3"
    },
    "language_info": {
      "name": "python"
    }
  },
  "cells": [
    {
      "cell_type": "markdown",
      "metadata": {
        "id": "view-in-github",
        "colab_type": "text"
      },
      "source": [
        "<a href=\"https://colab.research.google.com/github/Saisathwika-08/Generative-AI/blob/main/2303A52204_week3_ASS3.ipynb\" target=\"_parent\"><img src=\"https://colab.research.google.com/assets/colab-badge.svg\" alt=\"Open In Colab\"/></a>"
      ]
    },
    {
      "cell_type": "markdown",
      "source": [
        "1) Write Python code without using any libraries to find the value of x at which the\n",
        "function f(x) shown in equation (1) has minimum value. Consider Gradient Descent Algorithm.\n",
        "f (x) = 5x^4 + 3x^2 + 10"
      ],
      "metadata": {
        "id": "Yz9lqvgzDAW0"
      }
    },
    {
      "cell_type": "code",
      "execution_count": 7,
      "metadata": {
        "colab": {
          "base_uri": "https://localhost:8080/"
        },
        "id": "nSppNXP3_ssS",
        "outputId": "d80f6bd9-3d99-4a5b-ff1f-19987809790e"
      },
      "outputs": [
        {
          "output_type": "stream",
          "name": "stdout",
          "text": [
            "Minimum value of f(x) occurs at x = 0.0\n"
          ]
        }
      ],
      "source": [
        "def gradient_descent_1d(alpha=0.01, epsilon=1e-6, max_iter=10000):\n",
        "    def f_prime(x):\n",
        "        return 20 * x**3 + 6 * x\n",
        "\n",
        "    x = 0.0\n",
        "    for _ in range(max_iter):\n",
        "        grad = f_prime(x)\n",
        "        if abs(grad) < epsilon:\n",
        "            break\n",
        "        x -= alpha * grad\n",
        "    return x\n",
        "\n",
        "x_min = gradient_descent_1d()\n",
        "print(f\"Minimum value of f(x) occurs at x = {x_min}\")\n",
        "\n"
      ]
    },
    {
      "cell_type": "markdown",
      "source": [
        "2) Write Python code without using any libraries to find the value of x and y at which the\n",
        "function g(x,y) shown in equation (2) has minimum value. Consider Gradient Descent Algorithm.\n",
        "f (x) = 3x^2 + 5e^−y + 10"
      ],
      "metadata": {
        "id": "PCWIdAlTDWIj"
      }
    },
    {
      "cell_type": "code",
      "source": [
        "def gradient_descent_2d(alpha=0.01, epsilon=1e-6, max_iter=10000):\n",
        "    def f_prime_x(x):\n",
        "        return 6 * x\n",
        "\n",
        "    def f_prime_y(y):\n",
        "        return -5 * (2.718281828459045 ** (-y))\n",
        "\n",
        "    x, y = 0.0, 0.0\n",
        "    for _ in range(max_iter):\n",
        "        grad_x = f_prime_x(x)\n",
        "        grad_y = f_prime_y(y)\n",
        "        if abs(grad_x) < epsilon and abs(grad_y) < epsilon:\n",
        "            break\n",
        "        x -= alpha * grad_x\n",
        "        y -= alpha * grad_y\n",
        "    return x, y\n",
        "\n",
        "x_min, y_min = gradient_descent_2d()\n",
        "print(f\"Minimum value of g(x, y) occurs at x = {x_min}, y = {y_min}\")"
      ],
      "metadata": {
        "colab": {
          "base_uri": "https://localhost:8080/"
        },
        "id": "5j8ETu19DWgE",
        "outputId": "aa57ea64-15b8-42bf-8eee-a0a90db75a2f"
      },
      "execution_count": 6,
      "outputs": [
        {
          "output_type": "stream",
          "name": "stdout",
          "text": [
            "Minimum value of g(x, y) occurs at x = 0.0, y = 6.216917124174048\n"
          ]
        }
      ]
    },
    {
      "cell_type": "markdown",
      "source": [
        "3) Write Python code without using any libraries to find the value of x at which the\n",
        "sigmoid function z(x) shown in equation (3) has minimum value. Consider Gradient Descent\n",
        "Algorithm.\n",
        "z(x) = 1/1 + e−x (3)\n"
      ],
      "metadata": {
        "id": "aHQhx8-kDiVt"
      }
    },
    {
      "cell_type": "code",
      "source": [
        "def gradient_descent_sigmoid(alpha=0.01, epsilon=1e-6, max_iter=10000):\n",
        "    def z_prime(x):\n",
        "        exp_neg_x = 2.718281828459045 ** (-x)\n",
        "        return -exp_neg_x / ((1 + exp_neg_x) ** 2)\n",
        "\n",
        "    x = 0.0  # Initial guess\n",
        "    for _ in range(max_iter):\n",
        "        grad = z_prime(x)\n",
        "        if abs(grad) < epsilon:\n",
        "            break\n",
        "        x -= alpha * grad\n",
        "    return x\n",
        "\n",
        "x_min_sigmoid = gradient_descent_sigmoid()\n",
        "print(f\"Minimum value of z(x) occurs at x = {x_min_sigmoid}\")"
      ],
      "metadata": {
        "colab": {
          "base_uri": "https://localhost:8080/"
        },
        "id": "Ho8Pm3HnDivV",
        "outputId": "8b370e2f-8b9c-461f-be54-7436be3cbf1f"
      },
      "execution_count": 5,
      "outputs": [
        {
          "output_type": "stream",
          "name": "stdout",
          "text": [
            "Minimum value of z(x) occurs at x = 4.510913300793877\n"
          ]
        }
      ]
    },
    {
      "cell_type": "markdown",
      "source": [
        "4) Write Python code without using any libraries to find the value of optimal values of\n",
        "model parameters M and C such that the model’s Square Error Value shown in equation 4 will\n",
        "be minimum. It means model gives output close to expected output as shown in Figure 1\n",
        "Figura 1: AI Model\n",
        "![Screenshot 2025-01-22 134242.png](data:image/png;base64,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)\n"
      ],
      "metadata": {
        "id": "OhoM_8fKEQe4"
      }
    },
    {
      "cell_type": "code",
      "source": [
        "def gradient_descent_linear(alpha=0.01, epsilon=1e-6, max_iter=10000):\n",
        "    expected_outputs = [1, 2, 3, 4, 5]\n",
        "    inputs = [1, 2, 3, 4, 5]\n",
        "\n",
        "    def predicted_output(m, c, x):\n",
        "        return m * x + c\n",
        "\n",
        "    def se_grad_m(m, c):\n",
        "        return -2 * sum((e - predicted_output(m, c, x)) * x for e, x in zip(expected_outputs, inputs))\n",
        "\n",
        "    def se_grad_c(m, c):\n",
        "        return -2 * sum(e - predicted_output(m, c, x) for e, x in zip(expected_outputs, inputs))\n",
        "\n",
        "    m, c = 0.0, 0.0\n",
        "    for _ in range(max_iter):\n",
        "        grad_m = se_grad_m(m, c)\n",
        "        grad_c = se_grad_c(m, c)\n",
        "        if abs(grad_m) < epsilon and abs(grad_c) < epsilon:\n",
        "            break\n",
        "        m -= alpha * grad_m\n",
        "        c -= alpha * grad_c\n",
        "    return m, c\n",
        "\n",
        "m_opt, c_opt = gradient_descent_linear()\n",
        "print(f\"Optimal values are M = {m_opt}, C = {c_opt}\")\n"
      ],
      "metadata": {
        "colab": {
          "base_uri": "https://localhost:8080/"
        },
        "id": "IRO-ihByGDfg",
        "outputId": "5f0bfb1a-a5c7-4e7f-d1a0-81cf473f1f6d"
      },
      "execution_count": 9,
      "outputs": [
        {
          "output_type": "stream",
          "name": "stdout",
          "text": [
            "Optimal values are M = 0.9999998375829822, C = 5.863769691679814e-07\n"
          ]
        }
      ]
    }
  ]
}